{
 "cells": [
  {
   "cell_type": "markdown",
   "metadata": {},
   "source": [
    "# Initial equations"
   ]
  },
  {
   "cell_type": "markdown",
   "metadata": {},
   "source": [
    "$$\n",
    "\\sigma_{\\hat D}^2 = \\frac{\\hat x^2}{\\hat D^2} \\sigma_{\\hat x}^2 + \\frac{\\hat y^2}{\\hat D^2} \\sigma_{\\hat y}^2 + 2 \\frac{\\hat x \\hat y}{\\hat D^2} r_{\\hat x \\hat y} \\\\\n",
    "\\sigma_{\\hat \\beta}^2 = \\frac{\\hat x^2}{\\hat D^4} \\sigma_{\\hat x}^2 + \\frac{\\hat y^2}{\\hat D^4} \\sigma_{\\hat y}^2 - 2 \\frac{\\hat x \\hat y}{\\hat D^4} r_{\\hat x \\hat y} \\\\\n",
    "\\sigma_{\\hat x}^2(t) = \\frac{4}{t}\\sigma_D^2 + \\int\\limits_0^t \\left(\\frac{6}{t^2}\\tau-\\frac{2}{t} \\right)^2{\\cos^2}\\!{\\beta(\\tau)} \\left[D^2(\\tau)\\sigma_{\\beta}^2-\\sigma_D^2 \\right]\\,d\\tau \\\\\n",
    "\\sigma_{\\hat y}^2(t) = \\frac{4}{t}\\sigma_D^2 + \\int\\limits_0^t \\left(\\frac{6}{t^2}\\tau-\\frac{2}{t} \\right)^2{\\sin^2}\\!{\\beta(\\tau)} \\left[D^2(\\tau)\\sigma_{\\beta}^2-\\sigma_D^2 \\right]\\,d\\tau \\\\\n",
    "r_{\\hat x \\hat y}(t) = \\int\\limits_0^t \\left(\\frac{6}{t^2}\\tau-\\frac{2}{t} \\right)^2\\sin{\\beta(\\tau)} \\cos{\\beta(\\tau)} \\left[D^2(\\tau)\\sigma_{\\beta}^2-\\sigma_D^2 \\right]\\,d\\tau\n",
    "$$"
   ]
  },
  {
   "cell_type": "markdown",
   "metadata": {},
   "source": [
    "# Scenario $\\hat x = \\hat y$"
   ]
  },
  {
   "cell_type": "markdown",
   "metadata": {},
   "source": [
    "If $\\hat x = \\hat y$, then $\\hat x = \\hat y = \\frac{\\hat D}{\\sqrt 2}$, $\\hat \\beta = \\frac{\\pi}{4}$\n",
    "$$\n",
    "\\beta(t) = \\frac{\\pi}{4} ~\\rightarrow~ \\sin{\\beta(t)} = \\cos{\\beta(t)} = \\frac{\\sqrt 2}{2} ~\\rightarrow~ \\sigma_{\\hat x}^2(t) = \\sigma_{\\hat y}^2(t)\n",
    "$$\n",
    "\n",
    "It means that $\\sigma_{\\hat D}^2$ and $\\sigma_{\\hat \\beta}^2$ can be expressed in the following way:\n",
    "\n",
    "$$\n",
    "\\sigma_{\\hat D}^2 = \\frac{1}{2} \\sigma_{\\hat x}^2 + \\frac{1}{2} \\sigma_{\\hat y}^2 + r_{\\hat x \\hat y} = \\sigma_{\\hat x}^2 + r_{\\hat x \\hat y}\\\\\n",
    "\\sigma_{\\hat \\beta}^2 = \\frac{1}{2 \\hat D^2} \\sigma_{\\hat x}^2 + \\frac{1}{2 \\hat D^2} \\sigma_{\\hat y}^2 - \\frac{1}{\\hat D^2} r_{\\hat x \\hat y} = \\frac{\\sigma_{\\hat x}^2 - r_{\\hat x \\hat y}}{\\hat D^2}\\\\\n",
    "$$\n",
    "\n",
    "As soon as:\n",
    "\n",
    "$$\n",
    "\\sigma_{\\hat x}^2(t) = \\sigma_{\\hat y}^2(t) = \\frac{4}{t}\\sigma_D^2 + \\frac{1}{2} \\int\\limits_0^t \\left(\\frac{6}{t^2}\\tau-\\frac{2}{t} \\right)^2 \\left[D^2(\\tau)\\sigma_{\\beta}^2-\\sigma_D^2 \\right]\\,d\\tau \\\\\n",
    "r_{\\hat x \\hat y}(t) = \\frac{1}{2} \\int\\limits_0^t \\left(\\frac{6}{t^2}\\tau-\\frac{2}{t} \\right)^2 \\left[D^2(\\tau)\\sigma_{\\beta}^2-\\sigma_D^2 \\right]\\,d\\tau\n",
    "$$\n",
    "\n",
    "And then:\n",
    "\n",
    "$$\n",
    "\\sigma_{\\hat x}^2(t) - r_{\\hat x \\hat y}(t) = \\frac{4}{t}\\sigma_D^2 \\\\\n",
    "\\boxed{\\sigma_{\\hat \\beta}^2 = \\frac{4 \\sigma_D^2}{\\hat D^2 t}}\n",
    "$$\n",
    "\n",
    "Let's find $r_{\\hat x \\hat y}(t)$ if we know that $D(t) = D_0 - Vt$\n",
    "\n",
    "$$\n",
    "r_{\\hat x \\hat y}(t) = \\frac{1}{2} \\int\\limits_0^t \\left(\\frac{6}{t^2}\\tau-\\frac{2}{t} \\right)^2 \\left[D^2(\\tau)\\sigma_{\\beta}^2-\\sigma_D^2 \\right]\\,d\\tau = \\frac{1}{2} \\int\\limits_0^t \\left(\\frac{6}{t^2}\\tau-\\frac{2}{t} \\right)^2 \\left[\\left(D_0 - V\\tau\\right)^2\\sigma_{\\beta}^2-\\sigma_D^2 \\right]\\,d\\tau \\\\\n",
    "r_{\\hat x \\hat y}(t) = \\frac{\\sigma_{\\beta}^2}{2} \\underbrace{\\int\\limits_0^t \\left(\\frac{6}{t^2}\\tau-\\frac{2}{t} \\right)^2 \\left(D_0 - V\\tau\\right)^2\\,d\\tau}_{I_1} - \\frac{\\sigma_D^2}{2} \\underbrace{\\int\\limits_0^t \\left(\\frac{6}{t^2}\\tau-\\frac{2}{t} \\right)^2\\,d\\tau}_{I_2} \\\\\n",
    "I_1 = \\int\\limits_0^t \\left(\\frac{36}{t^4}\\tau^2 - \\frac{24}{t^3}\\tau + \\frac{4}{t^2}\\right) \\left(D_0^2 - 2D_0 V\\tau + V^2\\tau^2\\right)\\,d\\tau \\\\\n",
    "I_1 = \\int\\limits_0^t \\left( \\frac{36V^2}{t^4}\\tau^4 - \\frac{72D_0 V}{t^4}\\tau^3 + \\frac{36D_0^2}{t^4}\\tau^2 - \\frac{24V^2}{t^3}\\tau^3 + \\frac{48D_0 V}{t^3}\\tau^2 - \\frac{24D_0^2}{t^3}\\tau + \\frac{4V^2}{t^2}\\tau^2 - \\frac{8D_0 V}{t^2}\\tau + \\frac{4D_0^2}{t^2}\\right)\\,d\\tau \\\\\n",
    "I_1 = \\int\\limits_0^t \\left( \\frac{36V^2}{t^4}\\tau^4 - \\left( \\frac{72D_0 V}{t^4} + \\frac{24V^2}{t^3}\\right)\\tau^3 + \\left( \\frac{36D_0^2}{t^4} + \\frac{48D_0 V}{t^3} + \\frac{4V^2}{t^2} \\right)\\tau^2 - \\left( \\frac{24D_0^2}{t^3} + \\frac{8D_0 V}{t^2} \\right)\\tau + \\frac{4D_0^2}{t^2}\\right)\\,d\\tau \\\\\n",
    "I_1 = \\frac{36V^2 t}{5} - \\left( 18D_0 V + 6V^2 t \\right) + \\left( \\frac{12D_0^2}{t} + 16D_0 V + \\frac{4V^2 t}{3} \\right) - \\left( \\frac{12D_0^2}{t} + 4D_0 V \\right) + \\frac{4D_0^2}{t} = \\frac{38}{15}V^2 t - 6D_0 V + \\frac{4D_0^2}{t} \\\\\n",
    "I_2 = \\int\\limits_0^t \\left(\\frac{36}{t^4}\\tau^2 - \\frac{24}{t^3}\\tau + \\frac{4}{t^2}\\right)\\,d\\tau = \\frac{12}{t} - \\frac{12}{t} + \\frac{4}{t} = \\frac{4}{t} \\\\\n",
    "r_{\\hat x \\hat y}(t) = \\frac{\\sigma_{\\beta}^2}{2} \\left( \\frac{38}{15}V^2 t - 6D_0 V + \\frac{4D_0^2}{t} \\right) - \\frac{\\sigma_D^2}{2} \\frac{4}{t} \\\\\n",
    "r_{\\hat x \\hat y}(t) = -\\frac{2}{t}\\sigma_D^2 + \\left( \\frac{19}{15}V^2 t - 3D_0 V + \\frac{2D_0^2}{t}\\right)\\sigma_{\\beta}^2 \\\\\n",
    "\\sigma_{\\hat x}^2(t) = \\sigma_{\\hat y}^2(t) = r_{\\hat x \\hat y}(t) + \\frac{4}{t}\\sigma_D^2 = \\frac{2}{t}\\sigma_D^2 + \\left( \\frac{19}{15}V^2 t - 3D_0 V + \\frac{2D_0^2}{t}\\right)\\sigma_{\\beta}^2\n",
    "$$\n",
    "\n",
    "So, we can finally acquire $\\sigma_{\\hat D}^2$:\n",
    "\n",
    "$$\n",
    "\\boxed{\\sigma_{\\hat D}^2 = 2 \\left( \\frac{19}{15}V^2 t - 3D_0 V + \\frac{2D_0^2}{t}\\right)\\sigma_{\\beta}^2}\n",
    "$$\n",
    "\n",
    "We can see that $\\sigma_{\\hat D}^2$ behave itself as function $f(t) = t + 1/t$ and because of that has minimum. Let's find that minimum\n",
    "\n",
    "$$\n",
    "\\left( \\frac{19}{15}V^2 t - 3D_0 V + \\frac{2D_0^2}{t}\\right)' = \\frac{19}{15}V^2 - \\frac{2D_0^2}{t^2} \\\\\n",
    "\\frac{19}{15}V^2 - \\frac{2D_0^2}{t_{min}^2} = 0 ~\\rightarrow~ t_{min}^2 = \\frac{30D_0^2}{19V^2} \\\\\n",
    "t_{min} = \\sqrt{\\frac{30}{19}} \\frac{D_0}{V} > \\frac{D_0}{V}\n",
    "$$\n",
    "\n",
    "It means that $\\sigma_{\\hat D ,min}^2 = 2\\left( 2 \\sqrt{\\frac{38}{15}}-3 \\right)D_0 V \\approx 0.37 D_0 V$ reaches its minimum ${\\bf after}$ it gets to the observer. So, $\\sigma_{\\hat D}^2$ behave itself as monotonically decreasing function on the interval of observation"
   ]
  },
  {
   "cell_type": "code",
   "execution_count": null,
   "metadata": {
    "collapsed": true
   },
   "outputs": [],
   "source": []
  }
 ],
 "metadata": {
  "kernelspec": {
   "display_name": "Python 2",
   "language": "python",
   "name": "python2"
  },
  "language_info": {
   "codemirror_mode": {
    "name": "ipython",
    "version": 2
   },
   "file_extension": ".py",
   "mimetype": "text/x-python",
   "name": "python",
   "nbconvert_exporter": "python",
   "pygments_lexer": "ipython2",
   "version": "2.7.11"
  }
 },
 "nbformat": 4,
 "nbformat_minor": 0
}
